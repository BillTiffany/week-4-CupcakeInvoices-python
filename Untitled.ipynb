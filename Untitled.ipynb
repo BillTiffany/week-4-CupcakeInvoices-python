{
 "cells": [
  {
   "cell_type": "code",
   "execution_count": 1,
   "id": "23a17f40",
   "metadata": {},
   "outputs": [],
   "source": [
    "open_file = open(\"starter.py\")"
   ]
  },
  {
   "cell_type": "code",
   "execution_count": null,
   "id": "712b0f90",
   "metadata": {},
   "outputs": [],
   "source": []
  }
 ],
 "metadata": {
  "kernelspec": {
   "display_name": "Python 3",
   "language": "python",
   "name": "python3"
  },
  "language_info": {
   "codemirror_mode": {
    "name": "ipython",
    "version": 3
   },
   "file_extension": ".py",
   "mimetype": "text/x-python",
   "name": "python",
   "nbconvert_exporter": "python",
   "pygments_lexer": "ipython3",
   "version": "3.8.8"
  }
 },
 "nbformat": 4,
 "nbformat_minor": 5
}
